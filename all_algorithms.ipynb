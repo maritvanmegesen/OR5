{
 "cells": [
  {
   "cell_type": "markdown",
   "metadata": {},
   "source": [
    "# Operations Research 5 Line Production Assignment "
   ]
  },
  {
   "cell_type": "code",
   "execution_count": 1,
   "metadata": {},
   "outputs": [],
   "source": [
    "import pandas as pd\n",
    "import numpy as np \n",
    "import math \n",
    "import random \n",
    "import copy \n",
    "\n",
    "df = pd.read_excel(\"Line Production December 2023.xlsx\")\n",
    "# df = pd.read_excel(\"\"Line Production September 2023.xlsx\"\")"
   ]
  },
  {
   "cell_type": "markdown",
   "metadata": {},
   "source": [
    "### Constructive Heuristic Algorithm Ideal"
   ]
  },
  {
   "cell_type": "code",
   "execution_count": 2,
   "metadata": {},
   "outputs": [
    {
     "name": "stdout",
     "output_type": "stream",
     "text": [
      "Final Best Solution:\n",
      "L1: P1, P11, P2, P5, P23, P21, P17, P18, P25, P27, P4, P6, P33, P32, P31, P40, P9, P10, P7, P19, P14, P26, P34, P12, P29, P28, P13, P38, P15, P20, P24, P30, P35, P39, P3, P16, P8, P36, P37, P22\n",
      "L2: \n",
      "L3: \n",
      "L4: \n",
      "L5: \n",
      "L6: \n",
      "L7: \n",
      "Final Best Penalty Cost: 176744\n"
     ]
    }
   ],
   "source": [
    "#Import our function from the functions.py files, this makes it less crowded with code  \n",
    "from functions import constructive_heuristic_ideal\n",
    "\n",
    "#If you need help with the function uncomment the code below: \n",
    "#help(constructive_heuristic_ideal)\n",
    "\n",
    "chi_solution = constructive_heuristic_ideal(df)"
   ]
  },
  {
   "cell_type": "markdown",
   "metadata": {},
   "source": [
    "### Constructive Heuristic Algorithm Random"
   ]
  },
  {
   "cell_type": "code",
   "execution_count": 3,
   "metadata": {},
   "outputs": [
    {
     "name": "stdout",
     "output_type": "stream",
     "text": [
      "Final Best Solution:\n",
      "L1: P5, P23, P9, P14, P26, P34, P13, P39, P8\n",
      "L2: P6, P32, P10, P3\n",
      "L3: P11, P17, P4, P31, P30, P37\n",
      "L4: P18, P25, P40, P19, P29, P28, P24\n",
      "L5: P21, P27, P7, P38, P36\n",
      "L6: P33, P12, P15, P20, P22\n",
      "L7: P1, P2, P35, P16\n",
      "Final Best Penalty Cost: 20841\n"
     ]
    }
   ],
   "source": [
    "#Import our function from the functions.py files\n",
    "from functions import constructive_heuristic_random\n",
    "\n",
    "#Random seed where the best solution is stored (every seed is different some have higher penalty costs)\n",
    "random.seed(23)\n",
    "\n",
    "#If you need help with the function uncomment the code below: \n",
    "#help(constructive_heuristic_random)\n",
    "\n",
    "chr_solution = constructive_heuristic_random(df)"
   ]
  },
  {
   "cell_type": "markdown",
   "metadata": {},
   "source": [
    "### Improving Search Algorithm"
   ]
  },
  {
   "cell_type": "code",
   "execution_count": 4,
   "metadata": {},
   "outputs": [
    {
     "name": "stdout",
     "output_type": "stream",
     "text": [
      "Initial Solution:\n",
      "L1: P5, P23, P9, P14, P26, P34, P13, P39, P8\n",
      "L2: P6, P32, P10, P3\n",
      "L3: P11, P17, P4, P31, P30, P37\n",
      "L4: P18, P25, P40, P19, P29, P28, P24\n",
      "L5: P21, P27, P7, P38, P36\n",
      "L6: P33, P12, P15, P20, P22\n",
      "L7: P1, P2, P35, P16\n",
      "Initial Penalty Cost: 20841\n",
      "\n",
      "Final Best Solution:\n",
      "L1: P23, P13, P39, P8, P32, P17, P40, P29, P27\n",
      "L2: P6, P10, P3, P5, P34, P31, P35\n",
      "L3: P11, P4, P30, P37\n",
      "L4: P18, P19, P24, P2\n",
      "L5: P21, P7, P38, P36\n",
      "L6: P33, P12, P15, P20, P22, P9, P14, P26, P25, P28\n",
      "L7: P1, P16\n",
      "Final Best Penalty Cost: 10894\n"
     ]
    }
   ],
   "source": [
    "#Import our function from the functions.py files\n",
    "from functions import improving_search\n",
    "\n",
    "#If you need help with the function uncomment the code below: \n",
    "#help(improving_search)\n",
    "\n",
    "is_solution = improving_search(20, df, chr_solution)"
   ]
  },
  {
   "cell_type": "markdown",
   "metadata": {},
   "source": [
    "### Simulated Annealing Algorithm"
   ]
  },
  {
   "cell_type": "code",
   "execution_count": 5,
   "metadata": {},
   "outputs": [
    {
     "name": "stdout",
     "output_type": "stream",
     "text": [
      "Initial Solution:\n",
      "L1: P23, P13, P39, P8, P32, P17, P40, P29, P27\n",
      "L2: P6, P10, P3, P5, P34, P31, P35\n",
      "L3: P11, P4, P30, P37\n",
      "L4: P18, P19, P24, P2\n",
      "L5: P21, P7, P38, P36\n",
      "L6: P33, P12, P15, P20, P22, P9, P14, P26, P25, P28\n",
      "L7: P1, P16\n",
      "Initial Penalty Cost: 10894\n",
      "\n",
      "Final Best Solution:\n",
      "L1: P1, P12, P13, P20, P10, P17, P31, P40, P37\n",
      "L2: P3, P8, P6, P5, P22, P24, P30\n",
      "L3: P11, P35, P27, P38\n",
      "L4: P23, P39, P28, P36\n",
      "L5: P18, P16, P15, P33\n",
      "L6: P4, P2, P7, P29, P25, P19, P9, P14, P26, P32\n",
      "L7: P21, P34\n",
      "Final Best Penalty Cost: 2365\n"
     ]
    }
   ],
   "source": [
    "#Import our function from the functions.py files\n",
    "from functions import simulated_annealing\n",
    "\n",
    "\n",
    "#If you need help with the function uncomment the code below: \n",
    "#help(simulated_annealing)\n",
    "\n",
    "sa_solution = simulated_annealing(df, is_solution, 100, 0.99, 10)"
   ]
  },
  {
   "cell_type": "markdown",
   "metadata": {},
   "source": [
    "### File to Excel"
   ]
  },
  {
   "cell_type": "code",
   "execution_count": 6,
   "metadata": {},
   "outputs": [],
   "source": [
    "#Import our function from the functions.py files\n",
    "from functions import solution_excel\n",
    "\n",
    "#If you need help with the function uncomment the code below: \n",
    "#help(solution_excel)\n",
    "\n",
    "table = solution_excel(df, sa_solution)\n",
    "table\n",
    "\n",
    "# if you want to get the excel file, uncomment this code below:\n",
    "table.to_excel('OR5 Final December Schedule.xlsx')"
   ]
  },
  {
   "cell_type": "code",
   "execution_count": null,
   "metadata": {},
   "outputs": [],
   "source": []
  }
 ],
 "metadata": {
  "kernelspec": {
   "display_name": "Python 3",
   "language": "python",
   "name": "python3"
  },
  "language_info": {
   "codemirror_mode": {
    "name": "ipython",
    "version": 3
   },
   "file_extension": ".py",
   "mimetype": "text/x-python",
   "name": "python",
   "nbconvert_exporter": "python",
   "pygments_lexer": "ipython3",
   "version": "3.11.4"
  }
 },
 "nbformat": 4,
 "nbformat_minor": 2
}
