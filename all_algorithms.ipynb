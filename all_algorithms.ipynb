{
 "cells": [
  {
   "cell_type": "markdown",
   "metadata": {},
   "source": [
    "# Operations Research 5 Line Production Assignment "
   ]
  },
  {
   "cell_type": "code",
   "execution_count": 11,
   "metadata": {},
   "outputs": [],
   "source": [
    "import pandas as pd\n",
    "import numpy as np \n",
    "import math \n",
    "import random \n",
    "import copy \n",
    "\n",
    "# # Load data from the file\n",
    "# data = input(\"Input file name with formatting (.xlsx or .csv): \")\n",
    "# if data.endswith('.xlsx'):\n",
    "#     df = pd.read_excel(data)\n",
    "# elif data.endswith('.csv'):\n",
    "#     df = pd.read_csv(data)\n",
    "# else:\n",
    "#     raise ValueError(\"Unsupported file format. Use .xlsx or .csv.\")\n",
    "\n",
    "df = pd.read_excel(\"Line Production December 2023.xlsx\")"
   ]
  },
  {
   "cell_type": "markdown",
   "metadata": {},
   "source": [
    "### Constructive Heuristic Algorithm Ideal"
   ]
  },
  {
   "cell_type": "code",
   "execution_count": 12,
   "metadata": {},
   "outputs": [
    {
     "name": "stdout",
     "output_type": "stream",
     "text": [
      "Final Best Solution:\n",
      "L1: P1, P11, P2, P5, P23, P21, P17, P18, P25, P27, P4, P6, P33, P32, P31, P40, P9, P10, P7, P19, P14, P26, P34, P12, P29, P28, P13, P38, P15, P20, P24, P30, P35, P39, P3, P16, P8, P36, P37, P22\n",
      "L2: \n",
      "L3: \n",
      "L4: \n",
      "L5: \n",
      "L6: \n",
      "L7: \n",
      "Final Best Penalty Cost: 176744\n"
     ]
    }
   ],
   "source": [
    "from functions import constructive_heuristic_ideal\n",
    "\n",
    "chi_solution = constructive_heuristic_ideal(df)"
   ]
  },
  {
   "cell_type": "markdown",
   "metadata": {},
   "source": [
    "### Constructive Heuristic Algorithm Random"
   ]
  },
  {
   "cell_type": "code",
   "execution_count": 13,
   "metadata": {},
   "outputs": [
    {
     "name": "stdout",
     "output_type": "stream",
     "text": [
      "Final Best Solution:\n",
      "L1: P7, P19, P12, P24, P36\n",
      "L2: P1, P25, P32, P9, P29, P38, P15\n",
      "L3: P21, P14, P37\n",
      "L4: P11, P5, P17, P4, P34, P30, P3, P8\n",
      "L5: P33, P31, P40, P26, P16, P22\n",
      "L6: P2, P23, P20, P35\n",
      "L7: P18, P27, P6, P10, P28, P13, P39\n",
      "Final Best Penalty Cost: 21825\n"
     ]
    }
   ],
   "source": [
    "from functions import constructive_heuristic_random\n",
    "random.seed(21)\n",
    "\n",
    "chr_solution = constructive_heuristic_random(df)"
   ]
  },
  {
   "cell_type": "markdown",
   "metadata": {},
   "source": [
    "### Improving Search Algorithm"
   ]
  },
  {
   "cell_type": "code",
   "execution_count": 14,
   "metadata": {},
   "outputs": [
    {
     "name": "stdout",
     "output_type": "stream",
     "text": [
      "\n",
      "Initial Solution:\n",
      "L1: P7, P19, P12, P24, P36\n",
      "L2: P1, P25, P32, P9, P29, P38, P15\n",
      "L3: P21, P14, P37\n",
      "L4: P11, P5, P17, P4, P34, P30, P3, P8\n",
      "L5: P33, P31, P40, P26, P16, P22\n",
      "L6: P2, P23, P20, P35\n",
      "L7: P18, P27, P6, P10, P28, P13, P39\n",
      "Initial Penalty Cost: 21825\n",
      "\n",
      "Final Best Solution:\n",
      "L1: P11, P5, P30\n",
      "L2: P1, P9, P18, P3, P8, P28, P29, P16, P35\n",
      "L3: P21, P19, P32, P39\n",
      "L4: P17, P4, P31, P38, P37\n",
      "L5: P22, P2, P20, P27, P34, P36, P40\n",
      "L6: P23, P26\n",
      "L7: P6, P10, P13, P7, P12, P25, P14, P15, P33, P24\n",
      "Final Best Penalty Cost: 4144\n"
     ]
    }
   ],
   "source": [
    "from functions import improving_search\n",
    "\n",
    "is_solution = improving_search(20, df, chr_solution)\n"
   ]
  },
  {
   "cell_type": "markdown",
   "metadata": {},
   "source": [
    "### Simulated Annealing Algorithm"
   ]
  },
  {
   "cell_type": "code",
   "execution_count": 15,
   "metadata": {},
   "outputs": [
    {
     "name": "stdout",
     "output_type": "stream",
     "text": [
      "Initial Solution:\n",
      "L1: P11, P5, P30\n",
      "L2: P1, P9, P18, P3, P8, P28, P29, P16, P35\n",
      "L3: P21, P19, P32, P39\n",
      "L4: P17, P4, P31, P38, P37\n",
      "L5: P22, P2, P20, P27, P34, P36, P40\n",
      "L6: P23, P26\n",
      "L7: P6, P10, P13, P7, P12, P25, P14, P15, P33, P24\n",
      "Initial Penalty Cost: 4144\n",
      "\n",
      "Final Best Solution:\n",
      "L1: P11, P5, P24\n",
      "L2: P1, P9, P17, P20, P35, P8, P15, P16, P30\n",
      "L3: P23, P22, P39, P28\n",
      "L4: P18, P19, P31, P38, P37\n",
      "L5: P6, P7, P2, P27, P26, P29, P36\n",
      "L6: P21, P34\n",
      "L7: P3, P10, P13, P4, P12, P32, P14, P25, P33, P40\n",
      "Final Best Penalty Cost: 2971\n"
     ]
    }
   ],
   "source": [
    "from functions import simulated_annealing\n",
    "\n",
    "sa_solution = simulated_annealing(df, is_solution, 10, 0.99, 10)"
   ]
  },
  {
   "cell_type": "markdown",
   "metadata": {},
   "source": [
    "### File to Excel"
   ]
  },
  {
   "cell_type": "code",
   "execution_count": 16,
   "metadata": {},
   "outputs": [
    {
     "ename": "NameError",
     "evalue": "name 'Solution2' is not defined",
     "output_type": "error",
     "traceback": [
      "\u001b[1;31m---------------------------------------------------------------------------\u001b[0m",
      "\u001b[1;31mNameError\u001b[0m                                 Traceback (most recent call last)",
      "\u001b[1;32mc:\\Users\\Marit van Megesen\\OneDrive\\Documents\\Fontys\\Operations Research\\OR5\\all_algorithms.ipynb Cell 12\u001b[0m line \u001b[0;36m3\n\u001b[0;32m      <a href='vscode-notebook-cell:/c%3A/Users/Marit%20van%20Megesen/OneDrive/Documents/Fontys/Operations%20Research/OR5/all_algorithms.ipynb#X14sZmlsZQ%3D%3D?line=0'>1</a>\u001b[0m \u001b[39mfrom\u001b[39;00m \u001b[39mfunctions\u001b[39;00m \u001b[39mimport\u001b[39;00m solution_excel\n\u001b[1;32m----> <a href='vscode-notebook-cell:/c%3A/Users/Marit%20van%20Megesen/OneDrive/Documents/Fontys/Operations%20Research/OR5/all_algorithms.ipynb#X14sZmlsZQ%3D%3D?line=2'>3</a>\u001b[0m solution_excel(df, sa_solution)\n",
      "File \u001b[1;32mc:\\Users\\Marit van Megesen\\OneDrive\\Documents\\Fontys\\Operations Research\\OR5\\functions.py:326\u001b[0m, in \u001b[0;36msolution_excel\u001b[1;34m(df, solution)\u001b[0m\n\u001b[0;32m    323\u001b[0m result_data \u001b[39m=\u001b[39m []\n\u001b[0;32m    325\u001b[0m \u001b[39m# Populate the DataFrame with the relevant data\u001b[39;00m\n\u001b[1;32m--> 326\u001b[0m \u001b[39mfor\u001b[39;00m line, products \u001b[39min\u001b[39;00m Solution2\u001b[39m.\u001b[39mitems():\n\u001b[0;32m    327\u001b[0m     current_time \u001b[39m=\u001b[39m \u001b[39m0\u001b[39m\n\u001b[0;32m    328\u001b[0m     \u001b[39mfor\u001b[39;00m product \u001b[39min\u001b[39;00m products:\n",
      "\u001b[1;31mNameError\u001b[0m: name 'Solution2' is not defined"
     ]
    }
   ],
   "source": [
    "from functions import solution_excel\n",
    "\n",
    "solution_excel(df, sa_solution)"
   ]
  },
  {
   "cell_type": "code",
   "execution_count": null,
   "metadata": {},
   "outputs": [],
   "source": []
  }
 ],
 "metadata": {
  "kernelspec": {
   "display_name": "Python 3",
   "language": "python",
   "name": "python3"
  },
  "language_info": {
   "codemirror_mode": {
    "name": "ipython",
    "version": 3
   },
   "file_extension": ".py",
   "mimetype": "text/x-python",
   "name": "python",
   "nbconvert_exporter": "python",
   "pygments_lexer": "ipython3",
   "version": "3.11.5"
  }
 },
 "nbformat": 4,
 "nbformat_minor": 2
}
