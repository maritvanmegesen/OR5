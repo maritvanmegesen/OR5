{
 "cells": [
  {
   "cell_type": "code",
   "execution_count": 2,
   "metadata": {},
   "outputs": [],
   "source": [
    "import pandas as pd\n",
    "\n",
    "#implementing improving search for line production\n",
    "\n",
    "#reading the data \n",
    "df=pd.read_excel('Line Production September 2023.xlsx')"
   ]
  },
  {
   "cell_type": "code",
   "execution_count": null,
   "metadata": {},
   "outputs": [],
   "source": [
    "current_solution = {'L1': ['P26', 'P6', 'P9', 'P24'],\n",
    " 'L2': ['P7', 'P16', 'P27', 'P15', 'P10'],\n",
    " 'L3': ['P13', 'P25'],\n",
    " 'L4': ['P4', 'P8'],\n",
    " 'L5': ['P21', 'P18', 'P3'],\n",
    " 'L6': ['P11', 'P5', 'P23', 'P19', 'P20', 'P2', 'P14'],\n",
    " 'L7': ['P22', 'P17', 'P1', 'P12']}\n",
    "\n",
    "def penalty_costs(df, solution):\n",
    "\n",
    "    #initial cost \n",
    "    total_penalty_costs = 0 \n",
    "\n",
    "    #iterate through every line, with a list of products \n",
    "    for line, products in solution.items():\n",
    "        #initial penalty cost per line\n",
    "        line_penalty_cost = 0 \n",
    "        for product in products: \n",
    "            product_row = df[df['Product'] == product]\n",
    "\n",
    "\n",
    "\n",
    "\n",
    "\n"
   ]
  }
 ],
 "metadata": {
  "kernelspec": {
   "display_name": "Python 3",
   "language": "python",
   "name": "python3"
  },
  "language_info": {
   "codemirror_mode": {
    "name": "ipython",
    "version": 3
   },
   "file_extension": ".py",
   "mimetype": "text/x-python",
   "name": "python",
   "nbconvert_exporter": "python",
   "pygments_lexer": "ipython3",
   "version": "3.11.5"
  }
 },
 "nbformat": 4,
 "nbformat_minor": 2
}
