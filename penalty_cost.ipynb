{
 "cells": [
  {
   "cell_type": "code",
   "execution_count": 14,
   "metadata": {},
   "outputs": [],
   "source": [
    "import pandas as pd\n",
    "\n",
    "#implementing improving search for line production\n",
    "\n",
    "#reading the data \n",
    "df=pd.read_excel('Line Production September 2023.xlsx')"
   ]
  },
  {
   "cell_type": "code",
   "execution_count": 19,
   "metadata": {},
   "outputs": [
    {
     "name": "stdout",
     "output_type": "stream",
     "text": [
      "Total Penalty Cost: 3653\n"
     ]
    }
   ],
   "source": [
    "def calculate_penalty_cost(df, solution):\n",
    "    total_penalty_cost = 0\n",
    "\n",
    "    for line, products in solution.items():\n",
    "\n",
    "        #initial values \n",
    "        line_penalty_cost = 0  \n",
    "        current_time = 0  \n",
    "\n",
    "        for product in products:\n",
    "            #get the data of the specific product that's in the current line \n",
    "            product_row = df[df['Product'] == product]\n",
    "\n",
    "            if not product_row.empty:\n",
    "\n",
    "                # the products processing time on the line it's being processed on \n",
    "                processing_time = product_row[line].values[0]\n",
    "                # product deadline \n",
    "                deadline = product_row['deadline'].values[0]\n",
    "\n",
    "                # how late the product is \n",
    "                lateness = current_time + processing_time - deadline\n",
    "\n",
    "                #check if the product is late and if yes what the cost is     \n",
    "                if lateness > 0:\n",
    "                    penalty_cost = lateness * product_row['penalty cost'].values[0]\n",
    "                    #add the penalty cost to total cost of that line\n",
    "                    line_penalty_cost += penalty_cost\n",
    "\n",
    "                #change current time to that after processing the product \n",
    "                current_time += processing_time\n",
    "\n",
    "        # add penalty cost of everyline together \n",
    "        total_penalty_cost += line_penalty_cost\n",
    "\n",
    "    return total_penalty_cost"
   ]
  },
  {
   "cell_type": "code",
   "execution_count": null,
   "metadata": {},
   "outputs": [],
   "source": [
    "current_solution = {'L1': ['P26', 'P6', 'P9', 'P24'],\n",
    " 'L2': ['P7', 'P16', 'P27', 'P15', 'P10'],\n",
    " 'L3': ['P13', 'P25'],\n",
    " 'L4': ['P4', 'P8'],\n",
    " 'L5': ['P21', 'P18', 'P3'],\n",
    " 'L6': ['P11', 'P5', 'P23', 'P19', 'P20', 'P2', 'P14'],\n",
    " 'L7': ['P22', 'P17', 'P1', 'P12']}\n",
    "\n",
    "penalty_cost = calculate_penalty_cost(df, current_solution)\n",
    "print(f'Total Penalty Cost: {penalty_cost}')"
   ]
  }
 ],
 "metadata": {
  "kernelspec": {
   "display_name": "Python 3",
   "language": "python",
   "name": "python3"
  },
  "language_info": {
   "codemirror_mode": {
    "name": "ipython",
    "version": 3
   },
   "file_extension": ".py",
   "mimetype": "text/x-python",
   "name": "python",
   "nbconvert_exporter": "python",
   "pygments_lexer": "ipython3",
   "version": "3.11.5"
  }
 },
 "nbformat": 4,
 "nbformat_minor": 2
}
