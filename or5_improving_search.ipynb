{
 "cells": [
  {
   "cell_type": "code",
   "execution_count": 2,
   "metadata": {},
   "outputs": [],
   "source": [
    "import pandas as pd\n",
    "\n",
    "#implementing improving search for line production\n",
    "\n",
    "#reading the data \n",
    "df=pd.read_excel('Line Production September 2023.xlsx')\n"
   ]
  },
  {
   "cell_type": "code",
   "execution_count": 18,
   "metadata": {},
   "outputs": [
    {
     "name": "stdout",
     "output_type": "stream",
     "text": [
      "{'L1': ['P26', 'P6', 'P9', 'P24'], 'L2': ['P7', 'P16', 'P27', 'P15', 'P10'], 'L3': ['P13', 'P25'], 'L4': ['P4', 'P8'], 'L5': ['P21', 'P18', 'P3'], 'L6': ['P11', 'P5', 'P23', 'P19', 'P20', 'P2', 'P14'], 'L7': ['P22', 'P17', 'P1', 'P12']}\n"
     ]
    }
   ],
   "source": [
    "#constructive heuristic feasible solution\n",
    "\n",
    "feasible_solution = {'L1': ['P26', 'P6', 'P9', 'P24'],\n",
    " 'L2': ['P7', 'P16', 'P27', 'P15', 'P10'],\n",
    " 'L3': ['P13', 'P25'],\n",
    " 'L4': ['P4', 'P8'],\n",
    " 'L5': ['P21', 'P18', 'P3'],\n",
    " 'L6': ['P11', 'P5', 'P23', 'P19', 'P20', 'P2', 'P14'],\n",
    " 'L7': ['P22', 'P17', 'P1', 'P12']}\n",
    "\n",
    "print(feasible_solution)"
   ]
  },
  {
   "cell_type": "code",
   "execution_count": 21,
   "metadata": {},
   "outputs": [],
   "source": [
    "#make function \n",
    "\n",
    "import pandas as pd\n",
    "\n",
    "def improving_search(data: str, initial_solution: dict):\n",
    "    # Load data from the file\n",
    "    if data.endswith('.xlsx'):\n",
    "        df = pd.read_excel(data)\n",
    "    elif data.endswith('.csv'):\n",
    "        df = pd.read_csv(data)\n",
    "    else:\n",
    "        raise ValueError(\"Unsupported file format. Use .xlsx or .csv.\")\n",
    "\n",
    "    # Sort the products by their deadlines (ascending order)\n",
    "    df = df.sort_values(by='deadline')\n",
    "\n",
    "    best_solution = initial_solution.copy()  # Initialize the best solution\n",
    "    best_penalty_cost = calculate_penalty_cost(df, best_solution)\n",
    "\n",
    " \n",
    "\n",
    "def calculate_penalty_cost(df, solution):\n",
    "    product_list = [product for products in solution.values() for product in products]\n",
    "    total_penalty_cost = df[df['Product'].isin(product_list)]['penalty cost'].sum()\n",
    "    return total_penalty_cost"
   ]
  },
  {
   "cell_type": "code",
   "execution_count": 20,
   "metadata": {},
   "outputs": [
    {
     "name": "stdout",
     "output_type": "stream",
     "text": [
      "L1: []\n",
      "L2: []\n",
      "L3: []\n",
      "L4: []\n",
      "L5: []\n",
      "L6: []\n",
      "L7: []\n",
      "Total Penalty Cost: 5\n"
     ]
    }
   ],
   "source": [
    "improving_search(\"Line Production December 2023.xlsx\", feasible_solution)"
   ]
  },
  {
   "cell_type": "code",
   "execution_count": 15,
   "metadata": {},
   "outputs": [
    {
     "name": "stdout",
     "output_type": "stream",
     "text": [
      "L1: ['P26', 'P17', 'P18', 'P20']\n",
      "L2: ['P10', 'P7', 'P27', 'P19', 'P12']\n",
      "L3: ['P13', 'P14', 'P22', 'P15']\n",
      "L4: ['P11', 'P9', 'P25']\n",
      "L5: ['P23', 'P16', 'P21']\n",
      "L6: ['P2', 'P5', 'P8', 'P1']\n",
      "L7: ['P6', 'P4', 'P24', 'P3']\n",
      "Total Penalty Cost: 121\n"
     ]
    }
   ],
   "source": [
    "# Sort the products by their deadlines (ascending order)\n",
    "df = df.sort_values(by='deadline')\n",
    "\n",
    "# Initialize variables to keep track of the schedule and product completion times on each line\n",
    "lines = ['L1', 'L2', 'L3', 'L4', 'L5', 'L6', 'L7']\n",
    "product_schedule = {line: [] for line in lines}\n",
    "product_completion_time = {line: 0 for line in lines}\n",
    "\n",
    "# Iterate through the products and assign them to lines\n",
    "for _, row in df.iterrows():\n",
    "    product = row['Product']\n",
    "    line_assigned = None\n",
    "    min_completion_time = float('inf')\n",
    "\n",
    "    # Find the line with the earliest completion time for the current product\n",
    "    for line in lines:\n",
    "        completion_time = max(product_completion_time[line], row[line])\n",
    "        if completion_time < min_completion_time:\n",
    "            min_completion_time = completion_time\n",
    "            line_assigned = line\n",
    "\n",
    "    # Assign the product to the chosen line and update the completion time\n",
    "    product_schedule[line_assigned].append(product)\n",
    "    product_completion_time[line_assigned] = min_completion_time + row[line_assigned]\n",
    "\n",
    "# Print the schedule for each line\n",
    "for line, products in product_schedule.items():\n",
    "    print(f'{line}: {products}')\n",
    "\n",
    "# Calculate the total penalty cost\n",
    "total_penalty_cost = df[df['Product'].isin(product_schedule[line])]['penalty cost'].sum()\n",
    "print(f'Total Penalty Cost: {total_penalty_cost}')"
   ]
  },
  {
   "cell_type": "code",
   "execution_count": null,
   "metadata": {},
   "outputs": [],
   "source": []
  }
 ],
 "metadata": {
  "kernelspec": {
   "display_name": "Python 3",
   "language": "python",
   "name": "python3"
  },
  "language_info": {
   "codemirror_mode": {
    "name": "ipython",
    "version": 3
   },
   "file_extension": ".py",
   "mimetype": "text/x-python",
   "name": "python",
   "nbconvert_exporter": "python",
   "pygments_lexer": "ipython3",
   "version": "3.11.5"
  },
  "orig_nbformat": 4
 },
 "nbformat": 4,
 "nbformat_minor": 2
}
