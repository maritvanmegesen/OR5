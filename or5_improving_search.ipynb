{
 "cells": [
  {
   "cell_type": "code",
   "execution_count": 6,
   "metadata": {},
   "outputs": [],
   "source": [
    "import pandas as pd\n",
    "\n",
    "#implementing improving search for line production\n",
    "\n",
    "#reading the data \n",
    "df=pd.read_excel('Line Production September 2023.xlsx')\n"
   ]
  },
  {
   "cell_type": "code",
   "execution_count": 25,
   "metadata": {},
   "outputs": [],
   "source": [
    "#penalty costs\n",
    "def calculate_penalty_cost(df, solution):\n",
    "    total_penalty_cost = 0\n",
    "\n",
    "    for line, products in solution.items():\n",
    "\n",
    "        #initial values \n",
    "        line_penalty_cost = 0  \n",
    "        current_time = 0  \n",
    "\n",
    "        for product in products:\n",
    "            #get the data of the specific product that's in the current line \n",
    "            product_row = df[df['Product'] == product]\n",
    "\n",
    "            if not product_row.empty:\n",
    "\n",
    "                # the products processing time on the line it's being processed on \n",
    "                processing_time = product_row[line].values[0]\n",
    "                # product deadline \n",
    "                deadline = product_row['deadline'].values[0]\n",
    "\n",
    "                # how late the product is \n",
    "                lateness = current_time + processing_time - deadline\n",
    "\n",
    "                #check if the product is late and if yes what the cost is     \n",
    "                if lateness > 0:\n",
    "                    penalty_cost = lateness * product_row['penalty cost'].values[0]\n",
    "                    #add the penalty cost to total cost of that line\n",
    "                    line_penalty_cost += penalty_cost\n",
    "\n",
    "                #change current time to that after processing the product \n",
    "                current_time += processing_time\n",
    "\n",
    "        # add penalty cost of everyline together \n",
    "        total_penalty_cost += line_penalty_cost\n",
    "\n",
    "    return total_penalty_cost"
   ]
  },
  {
   "cell_type": "code",
   "execution_count": 7,
   "metadata": {},
   "outputs": [],
   "source": [
    "def improving_search(data: str, initial_solution: dict):\n",
    "    # Load data from the file\n",
    "    if data.endswith('.xlsx'):\n",
    "        df = pd.read_excel(data)\n",
    "    elif data.endswith('.csv'):\n",
    "        df = pd.read_csv(data)\n",
    "    else:\n",
    "        raise ValueError(\"Unsupported file format. Use .xlsx or .csv.\")\n",
    "\n",
    "    current_solution = initial_solution.copy()  # Initialize the best solution\n",
    "    best_penalty_cost = calculate_penalty_cost(df, current_solution)\n",
    "\n",
    "    # while True:\n",
    "    #     improment_made = False"
   ]
  },
  {
   "cell_type": "code",
   "execution_count": 28,
   "metadata": {},
   "outputs": [
    {
     "name": "stdout",
     "output_type": "stream",
     "text": [
      "Solution 1 penalty costs: 3653\n",
      "Solution 2 penalty costs: 14075\n",
      "Solution 2 penalty costs: 13998\n"
     ]
    }
   ],
   "source": [
    "#constructive heuristic feasible solution\n",
    "\n",
    "Solution1 = {'L1': ['P26', 'P6', 'P9', 'P24'],\n",
    " 'L2': ['P7', 'P16', 'P27', 'P15', 'P10'],\n",
    " 'L3': ['P13', 'P25'],\n",
    " 'L4': ['P4', 'P8'],\n",
    " 'L5': ['P21', 'P18', 'P3'],\n",
    " 'L6': ['P11', 'P5', 'P23', 'P19', 'P20', 'P2', 'P14'],\n",
    " 'L7': ['P22', 'P17', 'P1', 'P12']}\n",
    "\n",
    "Solution2 = {\"L1\": ['P26', 'P17', 'P18', 'P20'],\n",
    "\"L2\": ['P10', 'P7', 'P27', 'P19', 'P12'],\n",
    "\"L3\": ['P13', 'P14', 'P22', 'P15'],\n",
    "\"L4\": ['P11', 'P9', 'P25'],\n",
    "\"L5\": ['P23', 'P16', 'P21'],\n",
    "\"L6\": ['P2', 'P5', 'P8', 'P1'],\n",
    "\"L7\": ['P6', 'P4', 'P24', 'P3']}\n",
    "\n",
    "Solution3 = {\"L1\": ['P26', 'P17', 'P18', 'P20'],\n",
    "\"L2\": ['P10', 'P7', 'P27', 'P12'],\n",
    "\"L3\": ['P13', 'P14', 'P22', 'P15', 'P3'],\n",
    "\"L4\": ['P11', 'P9', 'P25'],\n",
    "\"L5\": ['P23', 'P21', 'P19'],\n",
    "\"L6\": ['P2', 'P5', 'P8', 'P1'],\n",
    "\"L7\": ['P6', 'P4', 'P16', 'P24']}\n",
    "\n",
    "print(f\"Solution 1 penalty costs: {calculate_penalty_cost(df, Solution1)}\")\n",
    "print(f\"Solution 2 penalty costs: {calculate_penalty_cost(df, Solution2)}\")\n",
    "print(f\"Solution 2 penalty costs: {calculate_penalty_cost(df, Solution3)}\")"
   ]
  },
  {
   "cell_type": "code",
   "execution_count": 22,
   "metadata": {},
   "outputs": [],
   "source": [
    "# while True:\n",
    "#     # Initialize a flag to check if any improvement is made in this iteration\n",
    "#     improvement_made = False\n",
    "\n",
    "#     # Create a copy of the current best solution\n",
    "#     best_solution = current_solution.copy()\n",
    "#     best_penalty_cost = calculate_penalty_cost(df, best_solution)\n",
    "\n",
    "#     # Iterate through each product in the current best solution\n",
    "#     for line in current_solution:\n",
    "#         for product in current_solution[line]:\n",
    "#             # Create a copy of the current solution\n",
    "#             new_solution = current_solution.copy()\n",
    "#             new_product_position = current_solution[line].index(product)\n",
    "\n",
    "#             # Remove the product from its current line\n",
    "#             new_solution[line].remove(product)\n",
    "\n",
    "#             best_position = new_product_position  # Track the best position\n",
    "#             best_penalty_cost_for_product = best_penalty_cost  # Track the best penalty cost for the product"
   ]
  },
  {
   "cell_type": "code",
   "execution_count": 15,
   "metadata": {},
   "outputs": [],
   "source": [
    "#improving_search(\"Line Production December 2023.xlsx\", feasible_solution)"
   ]
  }
 ],
 "metadata": {
  "kernelspec": {
   "display_name": "Python 3",
   "language": "python",
   "name": "python3"
  },
  "language_info": {
   "codemirror_mode": {
    "name": "ipython",
    "version": 3
   },
   "file_extension": ".py",
   "mimetype": "text/x-python",
   "name": "python",
   "nbconvert_exporter": "python",
   "pygments_lexer": "ipython3",
   "version": "3.11.5"
  },
  "orig_nbformat": 4
 },
 "nbformat": 4,
 "nbformat_minor": 2
}
