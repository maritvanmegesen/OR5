{
 "cells": [
  {
   "cell_type": "code",
   "execution_count": 2,
   "metadata": {},
   "outputs": [],
   "source": [
    "import pandas as pd\n",
    "import random\n",
    "import math\n",
    "#from penalty_cost import calculate_penalty_cost\n",
    "import copy\n",
    "df=pd.read_excel('Line Production September 2023.xlsx')\n",
    "\n",
    "#  %run penalty_cost.ipynb"
   ]
  },
  {
   "cell_type": "code",
   "execution_count": 3,
   "metadata": {},
   "outputs": [],
   "source": [
    "def calculate_penalty_cost(df, solution):\n",
    "    total_penalty_cost = 0\n",
    "\n",
    "    for line, products in solution.items():\n",
    "\n",
    "        #initial values \n",
    "        line_penalty_cost = 0  \n",
    "        current_time = 0  \n",
    "\n",
    "        for product in products:\n",
    "            #get the data of the specific product that's in the current line \n",
    "            product_row = df[df['Product'] == product]\n",
    "\n",
    "            if not product_row.empty:\n",
    "\n",
    "                # the products processing time on the line it's being processed on \n",
    "                processing_time = product_row[line].values[0]\n",
    "                # product deadline \n",
    "                deadline = product_row['deadline'].values[0]\n",
    "\n",
    "                # how late the product is \n",
    "                lateness = current_time + processing_time - deadline\n",
    "\n",
    "                #check if the product is late and if yes what the cost is     \n",
    "                if lateness > 0:\n",
    "                    penalty_cost = lateness * product_row['penalty cost'].values[0]\n",
    "                    #add the penalty cost to total cost of that line\n",
    "                    line_penalty_cost += penalty_cost\n",
    "\n",
    "                #change current time to that after processing the product \n",
    "                current_time += processing_time\n",
    "\n",
    "        # add penalty cost of everyline together \n",
    "        total_penalty_cost += line_penalty_cost\n",
    "\n",
    "    return total_penalty_cost"
   ]
  },
  {
   "cell_type": "code",
   "execution_count": 6,
   "metadata": {},
   "outputs": [
    {
     "name": "stdout",
     "output_type": "stream",
     "text": [
      "Best Schedule: {'L1': ['P6', 'P4', 'P24', 'P3'], 'L2': ['P10', 'P7', 'P27', 'P19', 'P12'], 'L3': ['P13', 'P14', 'P22', 'P15'], 'L4': ['P11', 'P9', 'P25'], 'L5': ['P23', 'P16', 'P21'], 'L6': ['P2', 'P5', 'P8', 'P1'], 'L7': ['P26', 'P17', 'P18', 'P20']}\n",
      "Best Cost: 14000\n"
     ]
    }
   ],
   "source": [
    "initial_temperature = 10\n",
    "cooling_rate = 0.995\n",
    "iterations_per_temperature = 100\n",
    "\n",
    "# Simulated annealing function\n",
    "def simulated_annealing(df, schedule, temperature, cooling_rate, iterations_per_temp):\n",
    "    current_schedule = schedule\n",
    "    best_schedule = schedule\n",
    "    current_cost = calculate_penalty_cost(df, current_schedule)\n",
    "    best_cost = current_cost\n",
    "\n",
    "    while temperature > 0.1:\n",
    "        for _ in range(iterations_per_temp):\n",
    "            # Generate a neighboring solution by swapping two random cities\n",
    "            i, j = random.sample(list(initial_solution.keys()), 2)\n",
    "            #neighbor_schedule = current_schedule[:]\n",
    "            neighbor_schedule = copy.deepcopy(current_schedule)\n",
    "            neighbor_schedule[i], neighbor_schedule[j] = neighbor_schedule[j], neighbor_schedule[i]\n",
    "            neighbor_cost = calculate_penalty_cost(df, neighbor_schedule)\n",
    "\n",
    "            # Decide whether to accept the neighbor solution\n",
    "            delta = neighbor_cost - current_cost\n",
    "            if delta < 0 or random.random() < math.exp(-delta / temperature):\n",
    "                current_schedule = neighbor_schedule\n",
    "                current_cost = neighbor_cost\n",
    "\n",
    "                # Update the best solution if necessary\n",
    "                if current_cost < best_cost:\n",
    "                    best_schedule = current_schedule\n",
    "                    best_cost = current_cost\n",
    "\n",
    "        # Cool the temperature\n",
    "        temperature *= cooling_rate\n",
    "\n",
    "    return best_schedule, best_cost\n",
    "\n",
    "initial_solution = {\"L1\": ['P26', 'P17', 'P18', 'P20'],\n",
    "\"L2\": ['P10', 'P7', 'P27', 'P19', 'P12'],\n",
    "\"L3\": ['P13', 'P14', 'P22', 'P15'],\n",
    "\"L4\": ['P11', 'P9', 'P25'],\n",
    "\"L5\": ['P23', 'P16', 'P21'],\n",
    "\"L6\": ['P2', 'P5', 'P8', 'P1'],\n",
    "\"L7\": ['P6', 'P4', 'P24', 'P3']}\n",
    "\n",
    "\n",
    "\n",
    "best_schedule, best_cost = simulated_annealing(df, initial_solution, initial_temperature, cooling_rate, iterations_per_temperature)\n",
    "\n",
    "print(\"Best Schedule:\", best_schedule)\n",
    "print(\"Best Cost:\", best_cost)"
   ]
  },
  {
   "cell_type": "code",
   "execution_count": 7,
   "metadata": {},
   "outputs": [
    {
     "data": {
      "text/plain": [
       "14000"
      ]
     },
     "execution_count": 7,
     "metadata": {},
     "output_type": "execute_result"
    }
   ],
   "source": []
  }
 ],
 "metadata": {
  "kernelspec": {
   "display_name": "base",
   "language": "python",
   "name": "python3"
  },
  "language_info": {
   "codemirror_mode": {
    "name": "ipython",
    "version": 3
   },
   "file_extension": ".py",
   "mimetype": "text/x-python",
   "name": "python",
   "nbconvert_exporter": "python",
   "pygments_lexer": "ipython3",
   "version": "3.11.4"
  }
 },
 "nbformat": 4,
 "nbformat_minor": 2
}
