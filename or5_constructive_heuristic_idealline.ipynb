{
 "cells": [
  {
   "cell_type": "code",
   "execution_count": 2,
   "metadata": {},
   "outputs": [],
   "source": [
    "import pandas as pd\n",
    "df_ch=pd.read_excel('Line Production September 2023.xlsx')\n",
    "\n",
    "df_ch['proportion']=df_ch['deadline']/df_ch['penalty cost']\n",
    "df_ch=df_ch.sort_values(by='proportion')\n",
    "df_ch=df_ch.reset_index(drop=True)\n",
    "\n",
    "df_ch['ideal line']=''\n",
    "line_columns=['L1', 'L2', 'L3', 'L4', 'L5', 'L6', 'L7']\n",
    "for product in df_ch.index:\n",
    "    ideal_line=df_ch[line_columns].idxmin(axis=1)\n",
    "    df_ch['ideal line']=ideal_line\n",
    "\n",
    "df_ch['time on ideal line']=''\n",
    "for index in df_ch.index:\n",
    "    column=df_ch.loc[index, 'ideal line']\n",
    "    df_ch.loc[index, 'time on ideal line']=df_ch.loc[index, column]"
   ]
  },
  {
   "cell_type": "code",
   "execution_count": 3,
   "metadata": {},
   "outputs": [
    {
     "name": "stdout",
     "output_type": "stream",
     "text": [
      "3653\n"
     ]
    },
    {
     "data": {
      "text/plain": [
       "{'L1': ['P26', 'P6', 'P9', 'P24'],\n",
       " 'L2': ['P7', 'P16', 'P27', 'P15', 'P10'],\n",
       " 'L3': ['P13', 'P25'],\n",
       " 'L4': ['P4', 'P8'],\n",
       " 'L5': ['P21', 'P18', 'P3'],\n",
       " 'L6': ['P11', 'P5', 'P23', 'P19', 'P20', 'P2', 'P14'],\n",
       " 'L7': ['P22', 'P17', 'P1', 'P12']}"
      ]
     },
     "execution_count": 3,
     "metadata": {},
     "output_type": "execute_result"
    }
   ],
   "source": [
    "simple_schedule={'L1': [], 'L2': [], 'L3': [], 'L4': [], 'L5': [], 'L6': [], 'L7': []}\n",
    "schedule={'L1': [], 'L2': [], 'L3': [], 'L4': [], 'L5': [], 'L6': [], 'L7': []}\n",
    "\n",
    "for line in line_columns:\n",
    "    time=0\n",
    "    for product in df_ch.index:\n",
    "        if df_ch.loc[product, 'ideal line']==line:\n",
    "            time=time+int(df_ch.loc[product, 'time on ideal line'])\n",
    "            information=[df_ch.loc[product, 'Product'], df_ch.loc[product, 'time on ideal line'], df_ch.loc[product, 'deadline'], time, df_ch.loc[product, 'penalty cost']]\n",
    "            schedule[line].append(information)\n",
    "            simple_schedule[line].append(df_ch.loc[product, 'Product'])\n",
    "\n",
    "total_penalty=0\n",
    "schedule\n",
    "for line, sequence in schedule.items():\n",
    "    #print(f'{line}: {sequence}')\n",
    "    for product in sequence:\n",
    "        if product[2]<product[3]:\n",
    "            #print(product[0], (product[3]-product[2])*product[4])\n",
    "            total_penalty+=(product[3]-product[2])*product[4]\n",
    "\n",
    "print(total_penalty)\n",
    "simple_schedule"
   ]
  },
  {
   "cell_type": "code",
   "execution_count": null,
   "metadata": {},
   "outputs": [],
   "source": []
  },
  {
   "cell_type": "code",
   "execution_count": null,
   "metadata": {},
   "outputs": [],
   "source": []
  }
 ],
 "metadata": {
  "kernelspec": {
   "display_name": "base",
   "language": "python",
   "name": "python3"
  },
  "language_info": {
   "codemirror_mode": {
    "name": "ipython",
    "version": 3
   },
   "file_extension": ".py",
   "mimetype": "text/x-python",
   "name": "python",
   "nbconvert_exporter": "python",
   "pygments_lexer": "ipython3",
   "version": "3.11.4"
  }
 },
 "nbformat": 4,
 "nbformat_minor": 2
}
