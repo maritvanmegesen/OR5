{
 "cells": [
  {
   "cell_type": "code",
   "execution_count": 2,
   "metadata": {},
   "outputs": [],
   "source": [
    "import pandas as pd\n",
    "df_ch=pd.read_excel('Line Production September 2023.xlsx')\n",
    "\n",
    "df_ch['proportion']=df_ch['deadline']/df_ch['penalty cost']\n",
    "df_ch=df_ch.sort_values(by='proportion')\n",
    "df_ch=df_ch.reset_index(drop=True)\n",
    "\n",
    "df_ch['ideal line']=''\n",
    "line_columns=['L1', 'L2', 'L3', 'L4', 'L5', 'L6', 'L7']\n",
    "for product in df_ch.index:\n",
    "    ideal_line=df_ch[line_columns].idxmin(axis=1)\n",
    "    df_ch['ideal line']=ideal_line\n",
    "\n",
    "df_ch['time on ideal line']=''\n",
    "for index in df_ch.index:\n",
    "    column=df_ch.loc[index, 'ideal line']\n",
    "    df_ch.loc[index, 'time on ideal line']=df_ch.loc[index, column]"
   ]
  },
  {
   "cell_type": "code",
   "execution_count": 3,
   "metadata": {},
   "outputs": [
    {
     "name": "stdout",
     "output_type": "stream",
     "text": [
      "3653\n"
     ]
    },
    {
     "data": {
      "text/plain": [
       "{'L1': ['P26', 'P6', 'P9', 'P24'],\n",
       " 'L2': ['P7', 'P16', 'P27', 'P15', 'P10'],\n",
       " 'L3': ['P13', 'P25'],\n",
       " 'L4': ['P4', 'P8'],\n",
       " 'L5': ['P21', 'P18', 'P3'],\n",
       " 'L6': ['P11', 'P5', 'P23', 'P19', 'P20', 'P2', 'P14'],\n",
       " 'L7': ['P22', 'P17', 'P1', 'P12']}"
      ]
     },
     "execution_count": 3,
     "metadata": {},
     "output_type": "execute_result"
    }
   ],
   "source": [
    "simple_schedule={'L1': [], 'L2': [], 'L3': [], 'L4': [], 'L5': [], 'L6': [], 'L7': []}\n",
    "schedule={'L1': [], 'L2': [], 'L3': [], 'L4': [], 'L5': [], 'L6': [], 'L7': []}\n",
    "\n",
    "for line in line_columns:\n",
    "    time=0\n",
    "    for product in df_ch.index:\n",
    "        if df_ch.loc[product, 'ideal line']==line:\n",
    "            time=time+int(df_ch.loc[product, 'time on ideal line'])\n",
    "            information=[df_ch.loc[product, 'Product'], df_ch.loc[product, 'time on ideal line'], df_ch.loc[product, 'deadline'], time, df_ch.loc[product, 'penalty cost']]\n",
    "            schedule[line].append(information)\n",
    "            simple_schedule[line].append(df_ch.loc[product, 'Product'])\n",
    "\n",
    "total_penalty=0\n",
    "schedule\n",
    "for line, sequence in schedule.items():\n",
    "    #print(f'{line}: {sequence}')\n",
    "    for product in sequence:\n",
    "        if product[2]<product[3]:\n",
    "            #print(product[0], (product[3]-product[2])*product[4])\n",
    "            total_penalty+=(product[3]-product[2])*product[4]\n",
    "\n",
    "print(total_penalty)\n",
    "simple_schedule"
   ]
  },
  {
   "cell_type": "code",
   "execution_count": 1,
   "metadata": {},
   "outputs": [],
   "source": [
    "def constructive_heuristic_ideal (df): \n",
    "    \"\"\"\n",
    "    arguments:\n",
    "        df = dataframe of production times, deadlines & costs  \n",
    "        \n",
    "    outputs: \n",
    "        best_solution = solution achieved through constructive heuristic ideal line algorithm\n",
    "    \"\"\"\n",
    "    df['proportion']=df['deadline']/df['penalty cost']\n",
    "    df=df.sort_values(by='proportion')\n",
    "    df=df.reset_index(drop=True)\n",
    "\n",
    "    df['ideal line']=''\n",
    "    line_columns=['L1', 'L2', 'L3', 'L4', 'L5', 'L6', 'L7']\n",
    "    for product in df.index:\n",
    "        ideal_line=df[line_columns].idxmin(axis=1)\n",
    "        df['ideal line']=ideal_line\n",
    "\n",
    "    df['time on ideal line']=''\n",
    "    for index in df.index:\n",
    "        column=df.loc[index, 'ideal line']\n",
    "        df.loc[index, 'time on ideal line']=df.loc[index, column]\n",
    "    \n",
    "    simple_schedule={'L1': [], 'L2': [], 'L3': [], 'L4': [], 'L5': [], 'L6': [], 'L7': []}\n",
    "    schedule={'L1': [], 'L2': [], 'L3': [], 'L4': [], 'L5': [], 'L6': [], 'L7': []}\n",
    "\n",
    "    for line in line_columns:\n",
    "        time=0\n",
    "        for product in df.index:\n",
    "            if df.loc[product, 'ideal line']==line:\n",
    "                simple_schedule[line].append(df.loc[product, 'Product'])\n",
    "\n",
    "    #name final solution \n",
    "    best_penalty_cost = calculate_penalty_cost(simple_schedule)\n",
    "    best_solution = simple_schedule\n",
    "\n",
    "    print(\"Final Best Solution:\")\n",
    "    for line, products in best_solution.items():\n",
    "        print(f\"{line}: {', '.join(products)}\")\n",
    "    print(\"Final Best Penalty Cost:\", best_penalty_cost)\n",
    "\n",
    "    return best_solution "
   ]
  },
  {
   "cell_type": "code",
   "execution_count": 13,
   "metadata": {},
   "outputs": [
    {
     "name": "stdout",
     "output_type": "stream",
     "text": [
      "Final Best Solution:\n",
      "L1: P26, P6, P9, P24\n",
      "L2: P7, P16, P27, P15, P10\n",
      "L3: P13, P25\n",
      "L4: P4, P8\n",
      "L5: P21, P18, P3\n",
      "L6: P11, P5, P23, P19, P20, P2, P14\n",
      "L7: P22, P17, P1, P12\n",
      "Final Best Penalty Cost: 3653\n"
     ]
    },
    {
     "data": {
      "text/plain": [
       "{'L1': ['P26', 'P6', 'P9', 'P24'],\n",
       " 'L2': ['P7', 'P16', 'P27', 'P15', 'P10'],\n",
       " 'L3': ['P13', 'P25'],\n",
       " 'L4': ['P4', 'P8'],\n",
       " 'L5': ['P21', 'P18', 'P3'],\n",
       " 'L6': ['P11', 'P5', 'P23', 'P19', 'P20', 'P2', 'P14'],\n",
       " 'L7': ['P22', 'P17', 'P1', 'P12']}"
      ]
     },
     "execution_count": 13,
     "metadata": {},
     "output_type": "execute_result"
    }
   ],
   "source": [
    "import pandas as pd \n",
    "import numpy as np \n",
    "import copy \n",
    "import random \n",
    "\n",
    "from functions import constructive_heuristic_ideal\n",
    "\n",
    "df = pd.read_excel(\"Line Production September 2023.xlsx\")\n",
    "\n",
    "constructive_heuristic_ideal(df)"
   ]
  },
  {
   "cell_type": "code",
   "execution_count": 12,
   "metadata": {},
   "outputs": [
    {
     "ename": "ImportError",
     "evalue": "cannot import name 'constructive_heuristic_random' from 'functions' (c:\\Users\\Marit van Megesen\\OneDrive\\Documents\\Fontys\\Operations Research\\OR5\\functions.py)",
     "output_type": "error",
     "traceback": [
      "\u001b[1;31m---------------------------------------------------------------------------\u001b[0m",
      "\u001b[1;31mImportError\u001b[0m                               Traceback (most recent call last)",
      "\u001b[1;32mc:\\Users\\Marit van Megesen\\OneDrive\\Documents\\Fontys\\Operations Research\\OR5\\or5_constructive_heuristic_idealline.ipynb Cell 5\u001b[0m line \u001b[0;36m6\n\u001b[0;32m      <a href='vscode-notebook-cell:/c%3A/Users/Marit%20van%20Megesen/OneDrive/Documents/Fontys/Operations%20Research/OR5/or5_constructive_heuristic_idealline.ipynb#W5sZmlsZQ%3D%3D?line=2'>3</a>\u001b[0m \u001b[39mimport\u001b[39;00m \u001b[39mcopy\u001b[39;00m \n\u001b[0;32m      <a href='vscode-notebook-cell:/c%3A/Users/Marit%20van%20Megesen/OneDrive/Documents/Fontys/Operations%20Research/OR5/or5_constructive_heuristic_idealline.ipynb#W5sZmlsZQ%3D%3D?line=3'>4</a>\u001b[0m \u001b[39mimport\u001b[39;00m \u001b[39mrandom\u001b[39;00m \n\u001b[1;32m----> <a href='vscode-notebook-cell:/c%3A/Users/Marit%20van%20Megesen/OneDrive/Documents/Fontys/Operations%20Research/OR5/or5_constructive_heuristic_idealline.ipynb#W5sZmlsZQ%3D%3D?line=5'>6</a>\u001b[0m \u001b[39mfrom\u001b[39;00m \u001b[39mfunctions\u001b[39;00m \u001b[39mimport\u001b[39;00m constructive_heuristic_random\n\u001b[0;32m      <a href='vscode-notebook-cell:/c%3A/Users/Marit%20van%20Megesen/OneDrive/Documents/Fontys/Operations%20Research/OR5/or5_constructive_heuristic_idealline.ipynb#W5sZmlsZQ%3D%3D?line=7'>8</a>\u001b[0m df \u001b[39m=\u001b[39m pd\u001b[39m.\u001b[39mread_excel(\u001b[39m\"\u001b[39m\u001b[39mLine Production September 2023.xlsx\u001b[39m\u001b[39m\"\u001b[39m)\n\u001b[0;32m     <a href='vscode-notebook-cell:/c%3A/Users/Marit%20van%20Megesen/OneDrive/Documents/Fontys/Operations%20Research/OR5/or5_constructive_heuristic_idealline.ipynb#W5sZmlsZQ%3D%3D?line=9'>10</a>\u001b[0m constructive_heuristic_random(df)\n",
      "\u001b[1;31mImportError\u001b[0m: cannot import name 'constructive_heuristic_random' from 'functions' (c:\\Users\\Marit van Megesen\\OneDrive\\Documents\\Fontys\\Operations Research\\OR5\\functions.py)"
     ]
    }
   ],
   "source": [
    "import pandas as pd \n",
    "import numpy as np \n",
    "import copy \n",
    "import random \n",
    "\n",
    "from functions import constructive_heuristic_random\n",
    "\n",
    "df = pd.read_excel(\"Line Production September 2023.xlsx\")\n",
    "\n",
    "constructive_heuristic_random(df)"
   ]
  },
  {
   "cell_type": "code",
   "execution_count": null,
   "metadata": {},
   "outputs": [],
   "source": []
  }
 ],
 "metadata": {
  "kernelspec": {
   "display_name": "base",
   "language": "python",
   "name": "python3"
  },
  "language_info": {
   "codemirror_mode": {
    "name": "ipython",
    "version": 3
   },
   "file_extension": ".py",
   "mimetype": "text/x-python",
   "name": "python",
   "nbconvert_exporter": "python",
   "pygments_lexer": "ipython3",
   "version": "3.11.5"
  }
 },
 "nbformat": 4,
 "nbformat_minor": 2
}
