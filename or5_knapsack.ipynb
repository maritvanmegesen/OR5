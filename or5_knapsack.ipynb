{
 "cells": [
  {
   "cell_type": "code",
   "execution_count": null,
   "metadata": {},
   "outputs": [],
   "source": [
    "import random\n",
    "import numpy as np\n",
    "\n",
    "def knapsack(num_items, capacity):\n",
    "    items = []\n",
    "    for i in range(num_items):\n",
    "        weight = random.randint(1, capacity/3)\n",
    "        value = random.randint(1, 200)\n",
    "        items.append((weight, value))\n",
    "    n = len(items)\n",
    "    print('items', items)\n",
    "    weighted_values = []\n",
    "    for j in items:\n",
    "        weighted_values.append(items[1]/items[0])\n",
    "    weighted_values.sort()\n",
    "    print(weighted_values)\n",
    "    selected_items=[]\n",
    "    total_weight=0\n",
    "    index_list=0\n",
    "    while total_weight<=capacity:\n",
    "        selected_items.append(item[k])\n",
    "        total_weight+=item[1]\n",
    "    return selected_items\n"
   ]
  }
 ],
 "metadata": {
  "kernelspec": {
   "display_name": "base",
   "language": "python",
   "name": "python3"
  },
  "language_info": {
   "name": "python",
   "version": "3.11.4"
  },
  "orig_nbformat": 4
 },
 "nbformat": 4,
 "nbformat_minor": 2
}
