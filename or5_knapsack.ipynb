{
 "cells": [
  {
   "cell_type": "code",
   "execution_count": null,
   "metadata": {},
   "outputs": [],
   "source": [
    "import random\n",
    "import numpy as np\n",
    "\n",
    "def knapsack(num_items, capacity):\n",
    "    '''this function uses the greedy choices by the proportion between weight and value of an item'''\n",
    "    items = []\n",
    "    weights = []\n",
    "    values = []\n",
    "    for i in range(num_items):\n",
    "        weight = random.randint(1, capacity//3)\n",
    "        value = random.randint(1, 200)\n",
    "        weights.append(weight)\n",
    "        values.append(value)\n",
    "        items.append((weight, value, weight/value))\n",
    "    print('items are', items)\n",
    "    sorted_items = sorted(items, key=lambda x: x[2])\n",
    "    print('sorted items', sorted_items)\n",
    "    selected_items=[]\n",
    "    total_weight=0\n",
    "    k=0\n",
    "    while total_weight<=capacity:\n",
    "        selected_items.append(sorted_items[k][:])\n",
    "        k+=1\n",
    "        total_weight+=sorted_items[k][0]\n",
    "    return selected_items\n",
    "\n",
    "knapsack(4, 120)\n"
   ]
  }
 ],
 "metadata": {
  "kernelspec": {
   "display_name": "base",
   "language": "python",
   "name": "python3"
  },
  "language_info": {
   "name": "python",
   "version": "3.11.4"
  },
  "orig_nbformat": 4
 },
 "nbformat": 4,
 "nbformat_minor": 2
}
